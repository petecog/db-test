{
 "cells": [
  {
   "cell_type": "code",
   "execution_count": 1,
   "metadata": {},
   "outputs": [],
   "source": [
    "import psycopg2\n",
    "from psycopg2.extras import execute_values, execute_batch\n",
    "size = 10000"
   ]
  },
  {
   "cell_type": "code",
   "execution_count": 2,
   "metadata": {},
   "outputs": [],
   "source": [
    "def gen_conn():\n",
    "    try:\n",
    "        conn = psycopg2.connect(\"dbname='postgres' user='postgres' host='postgres' password='postgres'\")\n",
    "    except:\n",
    "        print(\"I am unable to connect to the database\")\n",
    "    return conn\n"
   ]
  },
  {
   "cell_type": "code",
   "execution_count": 3,
   "metadata": {},
   "outputs": [],
   "source": [
    "def create_tables(conn):\n",
    "    commands = [\n",
    "        \"\"\"\n",
    "        CREATE TABLE loop (\n",
    "            id INT PRIMARY KEY,\n",
    "            data TEXT\n",
    "        )\n",
    "        \"\"\",\n",
    "        \"\"\"\n",
    "        CREATE TABLE block (\n",
    "            id INT PRIMARY KEY,\n",
    "            data TEXT\n",
    "        )\n",
    "        \"\"\"\n",
    "    ]\n",
    "    cur = conn.cursor()\n",
    "    for command in commands:\n",
    "        # print(command)\n",
    "        cur.execute(command)\n",
    "    cur.close()\n",
    "    conn.commit()\n",
    "    \n",
    "def drop_tables(conn):\n",
    "    cur = conn.cursor()\n",
    "    cur.execute(\"\"\"SELECT table_name FROM information_schema.tables\n",
    "       WHERE table_schema = 'public'\"\"\")\n",
    "    for table in cur.fetchall():\n",
    "        print(table[0])\n",
    "        # Form the SQL statement - DROP TABLE\n",
    "        dropTableStmt   = \"DROP TABLE %s;\"%table[0]\n",
    "        print(f'dropping - {dropTableStmt}')\n",
    "        cur.execute(dropTableStmt)\n",
    "    conn.commit()\n",
    "    "
   ]
  },
  {
   "cell_type": "code",
   "execution_count": 4,
   "metadata": {},
   "outputs": [],
   "source": [
    "# set up tables\n",
    "\n",
    "conn=gen_conn()\n",
    "create_tables(conn)\n",
    "conn.commit()\n",
    "conn.close()"
   ]
  },
  {
   "cell_type": "code",
   "execution_count": 5,
   "metadata": {},
   "outputs": [
    {
     "name": "stdout",
     "output_type": "stream",
     "text": [
      "10000\n",
      "CPU times: user 1.67 ms, sys: 371 µs, total: 2.04 ms\n",
      "Wall time: 1.97 ms\n"
     ]
    }
   ],
   "source": [
    "%%time\n",
    "# prep data\n",
    "\n",
    "data = []\n",
    "for i in range(size):\n",
    "    data.append((i,\"test\"))\n",
    "print(len(data))\n"
   ]
  },
  {
   "cell_type": "code",
   "execution_count": 6,
   "metadata": {},
   "outputs": [
    {
     "name": "stdout",
     "output_type": "stream",
     "text": [
      "CPU times: user 443 ms, sys: 1.3 s, total: 1.74 s\n",
      "Wall time: 40.1 s\n"
     ]
    }
   ],
   "source": [
    "%%time\n",
    "# writes in a loop\n",
    "\n",
    "conn = gen_conn()\n",
    "sql = \"\"\"INSERT INTO loop(id,data) VALUES(%s,%s)\"\"\"\n",
    "cur = conn.cursor()\n",
    "for i in data:\n",
    "    try:\n",
    "        cur.execute(sql,(i[0],i[1]))\n",
    "        conn.commit()\n",
    "    except:\n",
    "        conn.rollback() \n",
    "conn.close()"
   ]
  },
  {
   "cell_type": "code",
   "execution_count": 7,
   "metadata": {},
   "outputs": [
    {
     "name": "stdout",
     "output_type": "stream",
     "text": [
      "CPU times: user 22.5 ms, sys: 0 ns, total: 22.5 ms\n",
      "Wall time: 48.3 ms\n"
     ]
    }
   ],
   "source": [
    "%%time\n",
    "# writes in a block\n",
    "\n",
    "conn = gen_conn()\n",
    "sql = \"\"\"INSERT INTO block (id,data) VALUES %s\"\"\" \n",
    "cur = conn.cursor()\n",
    "execute_values(cur, sql, data, template=None, page_size=100)\n",
    "conn.commit()\n",
    "conn.close()"
   ]
  },
  {
   "cell_type": "code",
   "execution_count": 8,
   "metadata": {},
   "outputs": [
    {
     "name": "stdout",
     "output_type": "stream",
     "text": [
      "[(0, 'test'), (1, 'test'), (2, 'test'), (3, 'test'), (4, 'test'), (5, 'test'), (6, 'test'), (7, 'test'), (8, 'test'), (9, 'test')]\n"
     ]
    }
   ],
   "source": [
    "# prove there is data in loop\n",
    "\n",
    "conn = gen_conn()\n",
    "cur=conn.cursor()\n",
    "cur.execute(\"\"\"select * from loop\"\"\")\n",
    "print(cur.fetchall()[:10])\n",
    "conn.close()"
   ]
  },
  {
   "cell_type": "code",
   "execution_count": 9,
   "metadata": {},
   "outputs": [
    {
     "name": "stdout",
     "output_type": "stream",
     "text": [
      "[(0, 'test'), (1, 'test'), (2, 'test'), (3, 'test'), (4, 'test'), (5, 'test'), (6, 'test'), (7, 'test'), (8, 'test'), (9, 'test')]\n"
     ]
    }
   ],
   "source": [
    "# prove there is data in block\n",
    "\n",
    "conn = gen_conn()\n",
    "cur=conn.cursor()\n",
    "cur.execute(\"\"\"select * from block\"\"\")\n",
    "print(cur.fetchall()[:10])\n",
    "# for table in cursor.fetchall():\n",
    "#     print(table)\n",
    "conn.close()\n"
   ]
  },
  {
   "cell_type": "code",
   "execution_count": 10,
   "metadata": {},
   "outputs": [
    {
     "name": "stdout",
     "output_type": "stream",
     "text": [
      "loop\n",
      "dropping - DROP TABLE loop;\n",
      "block\n",
      "dropping - DROP TABLE block;\n"
     ]
    }
   ],
   "source": [
    "# drop tables\n",
    "\n",
    "conn=gen_conn()\n",
    "drop_tables(conn)\n",
    "conn.commit()\n",
    "conn.close()"
   ]
  },
  {
   "cell_type": "code",
   "execution_count": null,
   "metadata": {},
   "outputs": [],
   "source": []
  }
 ],
 "metadata": {
  "interpreter": {
   "hash": "c51f0b5d574ebe494808dc4236239f52f618fbfe8a781a626e2e51d099bcd1a5"
  },
  "kernelspec": {
   "display_name": "Python 3 (ipykernel)",
   "language": "python",
   "name": "python3"
  },
  "language_info": {
   "codemirror_mode": {
    "name": "ipython",
    "version": 3
   },
   "file_extension": ".py",
   "mimetype": "text/x-python",
   "name": "python",
   "nbconvert_exporter": "python",
   "pygments_lexer": "ipython3",
   "version": "3.9.10"
  }
 },
 "nbformat": 4,
 "nbformat_minor": 4
}
